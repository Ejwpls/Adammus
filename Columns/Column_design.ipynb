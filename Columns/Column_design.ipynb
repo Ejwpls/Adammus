{
 "cells": [
  {
   "cell_type": "code",
   "execution_count": 11,
   "metadata": {},
   "outputs": [],
   "source": [
    "import math\n",
    "import numpy as np\n",
    "import pandas as pd\n",
    "import matplotlib.pyplot as plt\n",
    "import seaborn as sns"
   ]
  },
  {
   "cell_type": "code",
   "execution_count": 12,
   "metadata": {},
   "outputs": [],
   "source": [
    "#INPUTS\n",
    "col_sect = 'RECT'   # Column Section 'RECT' or 'CIRC'\n",
    "col_type = 'BRACED' # 'BRACED' or ' UNBRACED' (defaults to BRACED)\n",
    "\n",
    "fc = 65             # [MPa] Concrete Strength\n",
    "\n",
    "b = 900             # [mm] Breadth\n",
    "h = 1100            # [mm] Depth\n",
    "\n",
    "dbar = 32           # [mm] Bar Diameter\n",
    "xbar = 4            # number of bars x direciton \n",
    "ybar = 6            # number of bars y direction\n",
    "\n",
    "l =  3100           # [mm] Height of The column\n",
    "ke2 = 1.0           # k factor for 'b' Direction\n",
    "ke3 = 1.0           # k factor for 'h' direciton\n",
    "\n",
    "cover = 40          # [mm] Concrete Cover\n",
    "\n",
    "fy = 500            # [MPa] Steel Yield Strength\n",
    "\n",
    "tie_db = 0          # [mm] Tie Bar Diameter (USER)\n",
    "tie_spc = 0         # [mm] Tie Bar Spacing (USER)\n"
   ]
  },
  {
   "cell_type": "code",
   "execution_count": 13,
   "metadata": {},
   "outputs": [
    {
     "data": {
      "text/plain": [
       "(12, 300)"
      ]
     },
     "execution_count": 13,
     "metadata": {},
     "output_type": "execute_result"
    }
   ],
   "source": [
    "def Min_TieSize(db):\n",
    "    if db <= 20:\n",
    "        Min_TieSize = 6\n",
    "    elif db <= 24 or db <= 28:\n",
    "        Min_TieSize = 10\n",
    "    elif db <= 32 or db <= 36:\n",
    "        Min_TieSize = 12\n",
    "    else:  \n",
    "        Min_TieSize = 16\n",
    "    return Min_TieSize\n",
    "\n",
    "tie = max(Min_TieSize(dbar), tie_db)        # Ensure Tie Size complie with Code\n",
    "\n",
    "Max_TieSpacing = min(b, h, 15*dbar)\n",
    "if fc > 50: \n",
    "    Max_TieSpacing = min(0.8*min(b, h), min(b,h), 300)\n",
    "\n",
    "tie_spc = min(tie_spc, Max_TieSpacing)\n",
    "if tie_spc <= 0: \n",
    "    tie_spc = Max_TieSpacing\n",
    "\n",
    "tie, tie_spc\n"
   ]
  },
  {
   "cell_type": "code",
   "execution_count": 14,
   "metadata": {},
   "outputs": [],
   "source": [
    "# Slender Columns \n",
    "def col_Areas(sect, b, D):     # [mm^4] Second Moment of inertia\n",
    "    match sect:\n",
    "        case 'RECT':\n",
    "            Ag = b * D                          # [mm²] Column Area\n",
    "            Ig = b * D ** 3 / 12                # [mm^4] Second Moment of inertia\n",
    "        case 'CIRC':\n",
    "            Ag = math.pi * (D/2) **2\n",
    "            Ig = math.pi /4 * (D/2) ** 4\n",
    "    rgy = (Ig/ Ag) ** 0.5                       # [mm] Radius of Gyration\n",
    "    return Ag, Ig, rgy\n",
    "\n",
    "Col3 = col_Areas(col_sect, b, h)\n",
    "Ag = Col3[0]\n",
    "I3 = Col3[1]\n",
    "r3 = Col3[2]\n",
    "\n",
    "Col2 = col_Areas(col_sect, h, b)\n",
    "I2 = Col2[1]\n",
    "r2 = Col2[2]\n",
    "\n",
    "# Moment Amplificaiton\n",
    "M3min = h * 0.05                                 # [kNm] Minimum Moment (y-dirn)\n",
    "M2min = b * 0.05                                 # [kNm] Minimum Moment (x-dirn)"
   ]
  },
  {
   "cell_type": "code",
   "execution_count": 15,
   "metadata": {},
   "outputs": [
    {
     "data": {
      "text/plain": [
       "(1032.0, 68.0)"
      ]
     },
     "execution_count": 15,
     "metadata": {},
     "output_type": "execute_result"
    }
   ],
   "source": [
    "# Effective Depth \n",
    "deff = h - cover - tie - dbar/2     # [mm] Distance from uppermost steel centre to bottom edge \n",
    "\n",
    "dox = b - cover - tie - dbar/2      # [mm] Distance from uppermost steel centre to bottom edge (X-Dirn) \n",
    "doy = h - cover - tie - dbar/2      # [mm] Distance from uppermost steel centre to bottom edge (y-Dirn)\n",
    "\n",
    "#Bar Depth (ds)\n",
    "dprime = cover + tie + dbar/2       # [mm] Distance from top of concrete to centre of reinforcement\n",
    "\n",
    "deff,dprime"
   ]
  },
  {
   "cell_type": "code",
   "execution_count": 16,
   "metadata": {},
   "outputs": [
    {
     "data": {
      "text/plain": [
       "(0.65, 0.8049999999999999, 0.7525, 0.8075)"
      ]
     },
     "execution_count": 16,
     "metadata": {},
     "output_type": "execute_result"
    }
   ],
   "source": [
    "# Beta 1(stress Block Multiplier)\n",
    "#Check Code\n",
    "if fc <= 28:\n",
    "    beta1 = 0.85\n",
    "else:\n",
    "    beta1 = max(0.85 - 0.05 * (fc - 28) / 7, 0.65)\n",
    "\n",
    "\n",
    "# Stress Block Parameters\n",
    "alpha1 = min(0.85, max(1 - 0.003 * fc, 0.72))\n",
    "\n",
    "def alpha2(fc, section):\n",
    "    alpha2 = max(0.85 - 0.0015 * fc, 0.67)\n",
    "    \n",
    "    if section == 'CIRC':\n",
    "        alpha2 = alpha2 * 0.95\n",
    "\n",
    "    return alpha2\n",
    "\n",
    "gamma = max(0.97-0.0025 * fc, 0.67)\n",
    "\n",
    "beta1, alpha1, alpha2(fc,col_sect), gamma"
   ]
  },
  {
   "cell_type": "code",
   "execution_count": 17,
   "metadata": {},
   "outputs": [
    {
     "data": {
      "text/plain": [
       "(12867.963509103793, 12867.963509103793)"
      ]
     },
     "execution_count": 17,
     "metadata": {},
     "output_type": "execute_result"
    }
   ],
   "source": [
    "# Total Number of bars depending on Section \n",
    "match col_sect:\n",
    "    case 'RECT':\n",
    "        Bar_total = 2 * (xbar + ybar-2)\n",
    "    case 'CIRC':\n",
    "        Bar_total = ybar\n",
    "\n",
    "Ast = (math.pi *dbar**2/4) * Bar_total      # [mm²] Steel area at tension side\n",
    "Asc = Ast                                   # [mm²] Steel area at compression side\n",
    "\n",
    "Ast, Asc"
   ]
  },
  {
   "cell_type": "code",
   "execution_count": 18,
   "metadata": {},
   "outputs": [],
   "source": [
    "#Stresss and strain \n",
    "Es = 200000         # [MPa] Steel Modulus (Constant)\n",
    "ec = 0.003          # [MPa] Concrete Maximum strain (MPa)\n",
    "ey = fy / Es        # Steel strain at yield point\n",
    "\n",
    "def stress_strain(c):\n",
    "    es = ec * (deff -c)/c       # Steel strain at neutral axis\n",
    "    fs = es * Es\n",
    "    esprime = ec *(c-dprime)/c  # Steel strain at compression side\n",
    "    fsprime = esprime * Es      #tensile stress at compression side \n",
    "    a = beta1* c                # Compressive stress block depth\n",
    "    return a, es, fs, esprime, fsprime"
   ]
  },
  {
   "cell_type": "code",
   "execution_count": 19,
   "metadata": {},
   "outputs": [],
   "source": [
    "# Strength reduction factor\n",
    "def strength_factor():\n",
    "    phi_factor = 0.65 + 0.25 * (es - ey)/(0.005-ey)\n",
    "    if phi_factor >= 0.9:\n",
    "        phi, classify = 0.9, 'Tension-controlled'\n",
    "    elif phi_factor <= 0.65:\n",
    "        phi, classify = 0.65, 'Compression-controlled'\n",
    "    else:\n",
    "        phi, classify = phi_factor, 'Transition'\n",
    "    return phi, classify"
   ]
  },
  {
   "cell_type": "code",
   "execution_count": 20,
   "metadata": {},
   "outputs": [],
   "source": [
    "# Forces & Moments \n",
    "def forces_moments():\n",
    "    T = Ast * min(fy,fs) /1000                              # [kN] Tension force by steel at tension side\n",
    "    Cc = 0.85* fc * a * b /1000                             # [kN] Compressive force by concrete\n",
    "    Cs = Asc * (min(fy, fsprime) - (0.85*fc)) /1000         # [kN] Compressive force by steel at compression side\n",
    "\n",
    "    Pn = Cc + Cs - T                                        # [kN] Nominal Axial load capacity \n",
    "    Pu = phi * Pn                                           # [kN] Ultimate axial load capacity\n",
    "\n",
    "    #Solve for eccentricity by taking moment about T: \n",
    "    #Sum of moments at T : Pn ( ecc + h/2 - dprime) - Cc(deff - a/2) - Cs (deff - a/2) = 0\n",
    "    ecc = (Cc*(deff - a/2) + Cs*(deff - dprime)) / Pn - (h/2 - dprime)\n",
    "    Mn = Pn * ecc /1000                             # Nominal Moment Capacity\n",
    "    Mu = phi * Mn                                   # Ultimate Moment Capacity\n",
    "\n",
    "    return ecc, Pn, Pu, Mn, Mu"
   ]
  },
  {
   "cell_type": "code",
   "execution_count": 21,
   "metadata": {},
   "outputs": [
    {
     "data": {
      "text/html": [
       "<div>\n",
       "<style scoped>\n",
       "    .dataframe tbody tr th:only-of-type {\n",
       "        vertical-align: middle;\n",
       "    }\n",
       "\n",
       "    .dataframe tbody tr th {\n",
       "        vertical-align: top;\n",
       "    }\n",
       "\n",
       "    .dataframe thead th {\n",
       "        text-align: right;\n",
       "    }\n",
       "</style>\n",
       "<table border=\"1\" class=\"dataframe\">\n",
       "  <thead>\n",
       "    <tr style=\"text-align: right;\">\n",
       "      <th></th>\n",
       "      <th>ecc(mm)</th>\n",
       "      <th>Pn(kN)</th>\n",
       "      <th>Pu(kN)</th>\n",
       "      <th>Mn(kN.m)</th>\n",
       "      <th>Mu(kN.m)</th>\n",
       "      <th>phi</th>\n",
       "    </tr>\n",
       "  </thead>\n",
       "  <tbody>\n",
       "    <tr>\n",
       "      <th>160</th>\n",
       "      <td>-3898</td>\n",
       "      <td>-1442</td>\n",
       "      <td>-1298</td>\n",
       "      <td>5622</td>\n",
       "      <td>5060</td>\n",
       "      <td>0.9</td>\n",
       "    </tr>\n",
       "    <tr>\n",
       "      <th>161</th>\n",
       "      <td>-2878</td>\n",
       "      <td>-1880</td>\n",
       "      <td>-1692</td>\n",
       "      <td>5410</td>\n",
       "      <td>4869</td>\n",
       "      <td>0.9</td>\n",
       "    </tr>\n",
       "    <tr>\n",
       "      <th>162</th>\n",
       "      <td>-2207</td>\n",
       "      <td>-2349</td>\n",
       "      <td>-2114</td>\n",
       "      <td>5183</td>\n",
       "      <td>4665</td>\n",
       "      <td>0.9</td>\n",
       "    </tr>\n",
       "    <tr>\n",
       "      <th>163</th>\n",
       "      <td>-1730</td>\n",
       "      <td>-2853</td>\n",
       "      <td>-2568</td>\n",
       "      <td>4938</td>\n",
       "      <td>4444</td>\n",
       "      <td>0.9</td>\n",
       "    </tr>\n",
       "    <tr>\n",
       "      <th>164</th>\n",
       "      <td>-1374</td>\n",
       "      <td>-3401</td>\n",
       "      <td>-3061</td>\n",
       "      <td>4672</td>\n",
       "      <td>4204</td>\n",
       "      <td>0.9</td>\n",
       "    </tr>\n",
       "    <tr>\n",
       "      <th>165</th>\n",
       "      <td>-1095</td>\n",
       "      <td>-4000</td>\n",
       "      <td>-3600</td>\n",
       "      <td>4380</td>\n",
       "      <td>3942</td>\n",
       "      <td>0.9</td>\n",
       "    </tr>\n",
       "    <tr>\n",
       "      <th>166</th>\n",
       "      <td>-870</td>\n",
       "      <td>-4662</td>\n",
       "      <td>-4196</td>\n",
       "      <td>4058</td>\n",
       "      <td>3652</td>\n",
       "      <td>0.9</td>\n",
       "    </tr>\n",
       "    <tr>\n",
       "      <th>167</th>\n",
       "      <td>-685</td>\n",
       "      <td>-5400</td>\n",
       "      <td>-4860</td>\n",
       "      <td>3698</td>\n",
       "      <td>3328</td>\n",
       "      <td>0.9</td>\n",
       "    </tr>\n",
       "    <tr>\n",
       "      <th>168</th>\n",
       "      <td>-528</td>\n",
       "      <td>-6235</td>\n",
       "      <td>-5612</td>\n",
       "      <td>3291</td>\n",
       "      <td>2962</td>\n",
       "      <td>0.9</td>\n",
       "    </tr>\n",
       "    <tr>\n",
       "      <th>169</th>\n",
       "      <td>-393</td>\n",
       "      <td>-7192</td>\n",
       "      <td>-6473</td>\n",
       "      <td>2825</td>\n",
       "      <td>2542</td>\n",
       "      <td>0.9</td>\n",
       "    </tr>\n",
       "  </tbody>\n",
       "</table>\n",
       "</div>"
      ],
      "text/plain": [
       "     ecc(mm)  Pn(kN)  Pu(kN)  Mn(kN.m)  Mu(kN.m)  phi\n",
       "160    -3898   -1442   -1298      5622      5060  0.9\n",
       "161    -2878   -1880   -1692      5410      4869  0.9\n",
       "162    -2207   -2349   -2114      5183      4665  0.9\n",
       "163    -1730   -2853   -2568      4938      4444  0.9\n",
       "164    -1374   -3401   -3061      4672      4204  0.9\n",
       "165    -1095   -4000   -3600      4380      3942  0.9\n",
       "166     -870   -4662   -4196      4058      3652  0.9\n",
       "167     -685   -5400   -4860      3698      3328  0.9\n",
       "168     -528   -6235   -5612      3291      2962  0.9\n",
       "169     -393   -7192   -6473      2825      2542  0.9"
      ]
     },
     "execution_count": 21,
     "metadata": {},
     "output_type": "execute_result"
    }
   ],
   "source": [
    "# Solve Axial load and moment at varying 'c' Values \n",
    "\n",
    "nom_load = []\n",
    "ult_load = []\n",
    "nom_moment = []\n",
    "ult_moment = []\n",
    "eccentricity = []\n",
    "phi_factor = []\n",
    "\n",
    "c_values = np.arange(1000, 50, -5)\n",
    "for c in c_values:\n",
    "    a, es, fs, esprime, fsprime = stress_strain(c)\n",
    "    phi, classify = strength_factor()\n",
    "    ecc, Pn, Pu, Mn, Mu = forces_moments()\n",
    "    if ecc <= 1.5*h:\n",
    "        nom_load.append(round(Pn))\n",
    "        ult_load.append(round(Pu))\n",
    "        nom_moment.append(round(Mn))\n",
    "        ult_moment.append(round(Mu))\n",
    "        eccentricity.append(round(ecc))\n",
    "        phi_factor.append(round(phi,2))\n",
    "\n",
    "# Save the above values in a dataframe and plot the values\n",
    "dict = {'ecc(mm)': eccentricity, 'Pn(kN)': nom_load, 'Pu(kN)': ult_load, 'Mn(kN.m)': nom_moment, 'Mu(kN.m)': ult_moment, 'phi': phi_factor}\n",
    "df = pd.DataFrame(dict)\n",
    "\n",
    "#Print last 10 rows \n",
    "df.tail(10)"
   ]
  },
  {
   "cell_type": "code",
   "execution_count": 22,
   "metadata": {},
   "outputs": [
    {
     "data": {
      "image/png": "[encoded data removed]",
      "text/plain": [
       "<Figure size 1300x700 with 1 Axes>"
      ]
     },
     "metadata": {},
     "output_type": "display_data"
    }
   ],
   "source": [
    "# Plots \n",
    "\n",
    "sns.set_style('darkgrid')\n",
    "fig, ax = plt.subplots(figsize=(13,7))\n",
    "ax = sns.scatterplot(x='Mn(kN.m)', y='Pn(kN)', data=df, color='g')\n",
    "sns.scatterplot(x='Mu(kN.m)', y='Pu(kN)', data=df, color='r')\n",
    "ax.set_xlabel('Moment Capacity (kN.m)')\n",
    "ax.set_ylabel('Axial Load Capacity (kN)')\n",
    "plt.title('P-M Interaction Diagram')\n",
    "plt.show()\n"
   ]
  },
  {
   "cell_type": "code",
   "execution_count": 13,
   "metadata": {},
   "outputs": [
    {
     "name": "stdout",
     "output_type": "stream",
     "text": [
      "Maximum allowable concentric axial load: 29640816 kN\n"
     ]
    }
   ],
   "source": [
    "# Calulcate the maximum allowable axial load capacity\n",
    "\n",
    "phi = 0.65\n",
    "alpha = 0.85\n",
    "Ag = b*h\n",
    "As = math.pi * dbar**2 * ybar\n",
    "Pmax = phi*alpha*0.85*fc*(Ag-As) + As*fy /1000\n",
    "\n",
    "print('Maximum allowable concentric axial load: {} kN'.format(round(Pmax)))"
   ]
  },
  {
   "cell_type": "markdown",
   "metadata": {},
   "source": [
    "https://app.calctree.com/3eae716e-d976-4518-aac7-7d20a0305663/Concrete-Column-Designer-to-AS3600-tqPtHqSo1x1i3vs1uv4N5r"
   ]
  }
 ],
 "metadata": {
  "kernelspec": {
   "display_name": "base",
   "language": "python",
   "name": "python3"
  },
  "language_info": {
   "codemirror_mode": {
    "name": "ipython",
    "version": 3
   },
   "file_extension": ".py",
   "mimetype": "text/x-python",
   "name": "python",
   "nbconvert_exporter": "python",
   "pygments_lexer": "ipython3",
   "version": "3.11.1"
  },
  "orig_nbformat": 4
 },
 "nbformat": 4,
 "nbformat_minor": 2
}
